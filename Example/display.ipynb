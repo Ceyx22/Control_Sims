{
 "cells": [
  {
   "cell_type": "code",
   "execution_count": 1,
   "metadata": {},
   "outputs": [],
   "source": [
    "import matplotlib.pyplot as plt\n",
    "from Simulations.constants import *\n",
    "from kinematics import kinematics\n",
    "from ipywidgets import *\n",
    "\n",
    "plt.rcParams[\"figure.dpi\"] = 150\n",
    "\n",
    "k = kinematics(\n",
    "    RIGHT_FRONT,\n",
    "    RIGHT_BACK,\n",
    "    LEFT_FRONT,\n",
    "    LEFT_BACK,\n",
    ")\n",
    "\n",
    "def update(roll, pitch, yaw, x, y, z, rot_x, rot_y, rot_z):\n",
    "    k.plot_robot(\n",
    "        xyz=[[x, y, z], [x, y, z], [x, y, z], [x, y, z]],\n",
    "        rot=[roll, pitch, yaw],\n",
    "        is_radians=False,\n",
    "        center_offset=[rot_x, rot_y, rot_z],\n",
    "    )"
   ]
  },
  {
   "cell_type": "code",
   "execution_count": null,
   "metadata": {},
   "outputs": [],
   "source": [
    "# plot the robot with the sliders for adjusting the rotation and center_offset\n",
    "interact(\n",
    "    update,\n",
    "    roll=widgets.FloatSlider(value=0, min=-20, max=20, step=1),\n",
    "    pitch=widgets.FloatSlider(value=0, min=-20, max=20, step=1),\n",
    "    yaw=widgets.FloatSlider(value=0, min=-20, max=20, step=1),\n",
    "    x=widgets.FloatSlider(value=0, min=-0.10, max=0.10, step=0.01),\n",
    "    y=widgets.FloatSlider(value=0, min=-0.10, max=0.10, step=0.01),\n",
    "    z=widgets.FloatSlider(value=-0.15, min=-0.25, max=-0.10, step=0.01),\n",
    "    rot_x=widgets.FloatSlider(value=0, min=-0.25205 / 2, max=0.25205 / 2, step=0.01),\n",
    "    rot_y=widgets.FloatSlider(value=0, min=-0.105577 / 2, max=0.105577 / 2, step=0.01),\n",
    "    rot_z=widgets.FloatSlider(value=0, min=-0.25, max=0.25, step=0.01),\n",
    ")\n"
   ]
  }
 ],
 "metadata": {
  "kernelspec": {
   "display_name": "Python 3",
   "language": "python",
   "name": "python3"
  },
  "language_info": {
   "codemirror_mode": {
    "name": "ipython",
    "version": 3
   },
   "file_extension": ".py",
   "mimetype": "text/x-python",
   "name": "python",
   "nbconvert_exporter": "python",
   "pygments_lexer": "ipython3",
   "version": "3.11.3"
  },
  "orig_nbformat": 4
 },
 "nbformat": 4,
 "nbformat_minor": 2
}
